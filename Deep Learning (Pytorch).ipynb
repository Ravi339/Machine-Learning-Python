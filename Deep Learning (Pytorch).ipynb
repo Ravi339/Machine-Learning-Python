{
 "cells": [
  {
   "cell_type": "markdown",
   "metadata": {},
   "source": [
    "# Deep Learning using Pytorch"
   ]
  },
  {
   "cell_type": "code",
   "execution_count": 1,
   "metadata": {},
   "outputs": [],
   "source": [
    "import numpy as np\n",
    "import torch\n",
    "import torchvision\n",
    "import torch.utils.data\n",
    "import torchvision.transforms as transforms\n",
    "from torch import nn , optim\n",
    "import torch.nn.functional as F\n",
    "import warnings;warnings.filterwarnings('ignore');"
   ]
  },
  {
   "cell_type": "code",
   "execution_count": 2,
   "metadata": {},
   "outputs": [],
   "source": [
    "# Transform the data to torch tensors and normalize it \n",
    "transform = transforms.Compose([transforms.ToTensor(),transforms.Normalize((0.1307), ((0.3081)))])\n",
    "\n",
    "# Shuffle the indices\n",
    "indices = np.arange(60000)\n",
    "np.random.shuffle(indices)\n",
    "\n",
    "# Prepare the datasets\n",
    "trainset = torchvision.datasets.MNIST('mnist', train=True, download=True, transform=transform)\n",
    "testset = torchvision.datasets.MNIST('mnist', train=False, download=True, transform=transform)\n",
    "\n",
    "# Prepare the dataloaders\n",
    "trainloader = torch.utils.data.DataLoader(trainset, batch_size=32,shuffle=False,\n",
    "                                          sampler=torch.utils.data.SubsetRandomSampler(indices[:55000]))\n",
    "#trainloader = torch.utils.data.DataLoader(trainset, batch_size=32,shuffle=False, num_workers=1)\n",
    "\n",
    "valloader = torch.utils.data.DataLoader(trainset, batch_size=32,shuffle=False,\n",
    "                                      sampler=torch.utils.data.SubsetRandomSampler(indices[55000:60000]))\n",
    "\n",
    "testloader = torch.utils.data.DataLoader(testset, batch_size=32,shuffle=False, num_workers=1)     "
   ]
  },
  {
   "cell_type": "code",
   "execution_count": 3,
   "metadata": {},
   "outputs": [
    {
     "name": "stdout",
     "output_type": "stream",
     "text": [
      "torch.Size([10000, 28, 28])\n",
      "32\n"
     ]
    }
   ],
   "source": [
    "# Compute the shape of the training set and testing set\n",
    "testset_shape = testloader.dataset.test_data.shape\n",
    "print(testset_shape)\n",
    "\n",
    "# Compute the size of the minibatch for training set and testing set\n",
    "testset_batchsize = testloader.batch_size\n",
    "print(testset_batchsize)"
   ]
  },
  {
   "cell_type": "code",
   "execution_count": 4,
   "metadata": {},
   "outputs": [],
   "source": [
    "# Define the class Net\n",
    "class Net(nn.Module):\n",
    "    def __init__(self):    \n",
    "        super(Net, self).__init__()\n",
    "        self.fc1 = nn.Linear(28 * 28 * 1, 200)\n",
    "        self.fc2 = nn.Linear(200,10)\n",
    "\n",
    "    def forward(self, x):   \n",
    "        x = F.relu(self.fc1(x))\n",
    "        x = self.fc2(x)\n",
    "        return x"
   ]
  },
  {
   "cell_type": "code",
   "execution_count": 5,
   "metadata": {},
   "outputs": [],
   "source": [
    "# Instantiate the Adam optimizer and Cross-Entropy loss function\n",
    "model = Net()   \n",
    "optimizer = optim.Adam(model.parameters(), lr=3e-4)\n",
    "criterion = nn.CrossEntropyLoss()\n",
    "  \n",
    "for i, data in enumerate(trainloader):\n",
    "    X_train = data[0]\n",
    "    y_train = data[1]\n",
    "    \n",
    "    X_train = X_train.view(-1, 28 * 28)\n",
    "    optimizer.zero_grad()\n",
    "\n",
    "    # Complete a forward pass\n",
    "    output = model(X_train)\n",
    "\n",
    "    # Compute the loss, gradients and change the weights\n",
    "    loss = criterion(output,y_train)\n",
    "    loss.backward()\n",
    "    optimizer.step()"
   ]
  },
  {
   "cell_type": "code",
   "execution_count": 6,
   "metadata": {},
   "outputs": [
    {
     "name": "stdout",
     "output_type": "stream",
     "text": [
      "The testing set accuracy : 95.110000 %\n"
     ]
    }
   ],
   "source": [
    "# Set the model in eval mode\n",
    "model.eval()\n",
    "\n",
    "correct, total = 0, 0\n",
    "\n",
    "for i, data in enumerate(testloader, 0):\n",
    "    X_test,y_test = data\n",
    "    \n",
    "    # Put each image into a vector\n",
    "    X_test = X_test.view(-1,28*28)\n",
    "    \n",
    "    # Do the forward pass and get the predictions\n",
    "    predictions = model(X_test)\n",
    "    _, predictions = torch.max(predictions.data, 1)\n",
    "    \n",
    "    total += y_test.size(0)\n",
    "    correct += (predictions == y_test).sum().item()\n",
    "    \n",
    "print('The testing set accuracy : %f %%' % (100 * correct / total))"
   ]
  },
  {
   "cell_type": "markdown",
   "metadata": {},
   "source": [
    "# Convulation Neural Network"
   ]
  },
  {
   "cell_type": "code",
   "execution_count": 7,
   "metadata": {},
   "outputs": [],
   "source": [
    "class Net(nn.Module):\n",
    "    def __init__(self, num_classes= 10):\n",
    "        super(Net, self).__init__()\n",
    "        \n",
    "        # Instantiate the ReLU nonlinearity\n",
    "        self.relu = nn.ReLU()\n",
    "        \n",
    "        # Instantiate two convolutional layers\n",
    "        self.conv1 = nn.Conv2d(in_channels=1, out_channels=20, kernel_size=3, padding=1)\n",
    "        self.conv2 = nn.Conv2d(in_channels=20, out_channels=40, kernel_size=3, padding=1)\n",
    "        \n",
    "        # Instantiate a max pooling layer\n",
    "        self.pool = nn.MaxPool2d(2, 2)\n",
    "        \n",
    "        # Instantiate a fully connected layer\n",
    "        self.fc = nn.Linear(7 * 7 * 40, num_classes)\n",
    "\n",
    "    def forward(self, x):\n",
    "\n",
    "        # Apply conv followd by relu, then in next line pool\n",
    "        x = self.pool(self.relu(self.conv1(x)))\n",
    "\n",
    "        # Apply conv followd by relu, then in next line pool\n",
    "        x = self.pool(self.relu(self.conv2(x)))\n",
    "\n",
    "        # Prepare the image for the fully connected layer\n",
    "        x = x.view(-1, 7*7*40)\n",
    "\n",
    "        # Apply the fully connected layer and return the result\n",
    "        return self.fc(x)"
   ]
  },
  {
   "cell_type": "code",
   "execution_count": 8,
   "metadata": {},
   "outputs": [],
   "source": [
    "# Instantiate the Adam optimizer and Cross-Entropy loss function\n",
    "model_cnn = Net()   \n",
    "optimizer = optim.Adam(model_cnn.parameters(), lr=3e-4)\n",
    "criterion = nn.CrossEntropyLoss()\n",
    "  \n",
    "for i, data in enumerate(trainloader,0):\n",
    "    image_train,label_train = data\n",
    "    optimizer.zero_grad()\n",
    "\n",
    "    # Complete a forward pass\n",
    "    output = model_cnn(image_train)\n",
    "\n",
    "    # Compute the loss, gradients and change the weights\n",
    "    loss = criterion(output,label_train)\n",
    "    loss.backward()\n",
    "    optimizer.step()"
   ]
  },
  {
   "cell_type": "code",
   "execution_count": 9,
   "metadata": {},
   "outputs": [
    {
     "name": "stdout",
     "output_type": "stream",
     "text": [
      "The testing set accuracy : 97.180000 %\n"
     ]
    }
   ],
   "source": [
    "# Set the model in eval mode\n",
    "model_cnn.eval()\n",
    "\n",
    "correct, total = 0, 0\n",
    "\n",
    "for i, data in enumerate(testloader, 0):\n",
    "    image_test,label_test = data\n",
    "    \n",
    "    # Do the forward pass and get the predictions\n",
    "    predictions = model_cnn(image_test)\n",
    "    _, predictions = torch.max(predictions.data, 1)\n",
    "    \n",
    "    total += label_test.size(0)\n",
    "    correct += (predictions == label_test).sum().item()\n",
    "    \n",
    "print('The testing set accuracy : %f %%' % (100 * correct / total))"
   ]
  },
  {
   "cell_type": "markdown",
   "metadata": {},
   "source": [
    "# Sequential CNN"
   ]
  },
  {
   "cell_type": "code",
   "execution_count": 10,
   "metadata": {},
   "outputs": [],
   "source": [
    "class Net(nn.Module):\n",
    "    def __init__(self):\n",
    "        super(Net, self).__init__()\n",
    "        \n",
    "        # Declare all the layers for feature extraction\n",
    "        self.features = nn.Sequential(nn.Conv2d(in_channels=1, out_channels=5, kernel_size=3, padding=1), \n",
    "                                      nn.ReLU(inplace=True),\n",
    "                                      nn.Conv2d(in_channels=5, out_channels=10, kernel_size=3, padding=1), \n",
    "                                      nn.MaxPool2d(2, 2), nn.ReLU(inplace=True),\n",
    "                                      nn.Conv2d(in_channels=10, out_channels=20, kernel_size=3, padding=1),\n",
    "                                      nn.ReLU(inplace=True),\n",
    "                                      nn.Conv2d(in_channels=20, out_channels=40, kernel_size=3, padding=1),\n",
    "                                      nn.MaxPool2d(2, 2), nn.ReLU(inplace=True))\n",
    "        \n",
    "        # Declare all the layers for classification\n",
    "        self.classifier = nn.Sequential(nn.Linear(7 * 7 * 40, 1024), nn.ReLU(inplace=True),\n",
    "                                       \tnn.Linear(1024, 2048), nn.ReLU(inplace=True),\n",
    "                                        nn.Linear(2048, 10))\n",
    "        \n",
    "    def forward(self, x):\n",
    "      \n",
    "        # Apply the feature extractor in the input\n",
    "        x = self.features(x)\n",
    "        x = x.view(-1, 7 * 7 * 40)\n",
    "        x = self.classifier(x)\n",
    "        return x"
   ]
  },
  {
   "cell_type": "code",
   "execution_count": 11,
   "metadata": {},
   "outputs": [
    {
     "name": "stdout",
     "output_type": "stream",
     "text": [
      "The testing set accuracy : 98.510000 %\n"
     ]
    }
   ],
   "source": [
    "# Instantiate the Adam optimizer and Cross-Entropy loss function\n",
    "model_cnn = Net()   \n",
    "optimizer = optim.Adam(model_cnn.parameters(), lr=3e-4)\n",
    "criterion = nn.CrossEntropyLoss()\n",
    "  \n",
    "for i, data in enumerate(trainloader,0):\n",
    "    image_train,label_train = data\n",
    "    optimizer.zero_grad()\n",
    "\n",
    "    # Complete a forward pass\n",
    "    output = model_cnn(image_train)\n",
    "\n",
    "    # Compute the loss, gradients and change the weights\n",
    "    loss = criterion(output,label_train)\n",
    "    loss.backward()\n",
    "    optimizer.step()\n",
    " \n",
    "\n",
    "# model in evaluation mode\n",
    "model_cnn.eval()\n",
    "\n",
    "correct, total = 0, 0\n",
    "for i, data in enumerate(testloader, 0):\n",
    "    image_test,label_test = data\n",
    "    \n",
    "    # Do the forward pass and get the predictions\n",
    "    predictions = model_cnn(image_test)\n",
    "    _, predictions = torch.max(predictions.data, 1)\n",
    "    \n",
    "    total += label_test.size(0)\n",
    "    correct += (predictions == label_test).sum().item()\n",
    "    \n",
    "print('The testing set accuracy : %f %%' % (100 * correct / total))"
   ]
  }
 ],
 "metadata": {
  "kernelspec": {
   "display_name": "Python 3",
   "language": "python",
   "name": "python3"
  },
  "language_info": {
   "codemirror_mode": {
    "name": "ipython",
    "version": 3
   },
   "file_extension": ".py",
   "mimetype": "text/x-python",
   "name": "python",
   "nbconvert_exporter": "python",
   "pygments_lexer": "ipython3",
   "version": "3.6.4"
  }
 },
 "nbformat": 4,
 "nbformat_minor": 2
}
