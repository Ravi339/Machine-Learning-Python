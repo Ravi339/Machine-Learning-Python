{
 "cells": [
  {
   "cell_type": "code",
   "execution_count": 1,
   "metadata": {},
   "outputs": [],
   "source": [
    "# Importing required module\n",
    "import pandas as pd\n",
    "import numpy as np\n",
    "import matplotlib.pyplot as plt\n",
    "import seaborn as sns\n",
    "import warnings;warnings.filterwarnings('ignore');"
   ]
  },
  {
   "cell_type": "code",
   "execution_count": 2,
   "metadata": {},
   "outputs": [
    {
     "name": "stdout",
     "output_type": "stream",
     "text": [
      "Observations per class:\n",
      " Steve      200\n",
      "Kate       200\n",
      "Susan      200\n",
      "Michael    200\n",
      "Name: competitor, dtype: int64\n"
     ]
    },
    {
     "data": {
      "text/html": [
       "<div>\n",
       "<style scoped>\n",
       "    .dataframe tbody tr th:only-of-type {\n",
       "        vertical-align: middle;\n",
       "    }\n",
       "\n",
       "    .dataframe tbody tr th {\n",
       "        vertical-align: top;\n",
       "    }\n",
       "\n",
       "    .dataframe thead th {\n",
       "        text-align: right;\n",
       "    }\n",
       "</style>\n",
       "<table border=\"1\" class=\"dataframe\">\n",
       "  <thead>\n",
       "    <tr style=\"text-align: right;\">\n",
       "      <th></th>\n",
       "      <th>xCoord</th>\n",
       "      <th>yCoord</th>\n",
       "      <th>competitor</th>\n",
       "    </tr>\n",
       "  </thead>\n",
       "  <tbody>\n",
       "    <tr>\n",
       "      <th>0</th>\n",
       "      <td>0.196451</td>\n",
       "      <td>-0.520341</td>\n",
       "      <td>Steve</td>\n",
       "    </tr>\n",
       "    <tr>\n",
       "      <th>1</th>\n",
       "      <td>0.476027</td>\n",
       "      <td>-0.306763</td>\n",
       "      <td>Susan</td>\n",
       "    </tr>\n",
       "    <tr>\n",
       "      <th>2</th>\n",
       "      <td>0.003175</td>\n",
       "      <td>-0.980736</td>\n",
       "      <td>Michael</td>\n",
       "    </tr>\n",
       "    <tr>\n",
       "      <th>3</th>\n",
       "      <td>0.294078</td>\n",
       "      <td>0.267566</td>\n",
       "      <td>Kate</td>\n",
       "    </tr>\n",
       "    <tr>\n",
       "      <th>4</th>\n",
       "      <td>-0.051120</td>\n",
       "      <td>0.598946</td>\n",
       "      <td>Steve</td>\n",
       "    </tr>\n",
       "  </tbody>\n",
       "</table>\n",
       "</div>"
      ],
      "text/plain": [
       "     xCoord    yCoord competitor\n",
       "0  0.196451 -0.520341      Steve\n",
       "1  0.476027 -0.306763      Susan\n",
       "2  0.003175 -0.980736    Michael\n",
       "3  0.294078  0.267566       Kate\n",
       "4 -0.051120  0.598946      Steve"
      ]
     },
     "execution_count": 2,
     "metadata": {},
     "output_type": "execute_result"
    }
   ],
   "source": [
    "# Reading Data\n",
    "darts = pd.read_csv(\"D:\\Ravi_Data\\darts.csv\",sep=\",\")\n",
    "print('Observations per class:\\n',darts['competitor'].value_counts())\n",
    "darts.head()"
   ]
  },
  {
   "cell_type": "code",
   "execution_count": 3,
   "metadata": {},
   "outputs": [],
   "source": [
    "# Import the sequential model and dense layer\n",
    "from keras.models import Sequential\n",
    "from keras.layers import Dense\n",
    "from keras.layers import BatchNormalization\n",
    "\n",
    "# Instantiate a sequential model\n",
    "model = Sequential()\n",
    "  \n",
    "# Add 3 dense layers of 128, 64 and 32 neurons each\n",
    "model.add(Dense(128, input_shape=(2,), activation='relu'))\n",
    "#model.add(BatchNormalization())\n",
    "model.add(Dense(64, activation='relu'))\n",
    "model.add(Dense(16, activation='relu'))\n",
    "  \n",
    "# Add a dense layer with as many neurons as competitors\n",
    "model.add(Dense(4, activation='softmax'))\n",
    "  \n",
    "# Compile your model using categorical_crossentropy loss\n",
    "model.compile(loss='categorical_crossentropy',\n",
    "              optimizer= 'adam',\n",
    "              metrics=['accuracy'])"
   ]
  },
  {
   "cell_type": "code",
   "execution_count": 4,
   "metadata": {},
   "outputs": [],
   "source": [
    "# Transform into a categorical variable\n",
    "darts.competitor = pd.Categorical(darts.competitor)\n",
    "\n",
    "\n",
    "# Assign a number to each category (label encoding)\n",
    "import importlib; importlib.reload(pd)\n",
    "\n",
    "cat_dict = dict(enumerate(darts.competitor.cat.categories))\n",
    "\n",
    "darts.competitor = darts.competitor.cat.codes\n",
    "\n",
    "\n",
    "# # Import to_categorical from keras utils module\n",
    "from keras.utils import to_categorical\n",
    "\n",
    "X = darts.drop(['competitor'], axis=1)\n",
    "# # # Use to_categorical on your labels\n",
    "\n",
    "y = to_categorical(darts.competitor)\n",
    "# # # Now print the one-hot encoded labels\n",
    "# # print('One-hot encoded competitors: \\n',y)"
   ]
  },
  {
   "cell_type": "code",
   "execution_count": 5,
   "metadata": {},
   "outputs": [],
   "source": [
    "# loading sciki learn libraries and spliting data into test and train\n",
    "from sklearn.model_selection import train_test_split\n",
    "X_train, X_test, y_train, y_test = train_test_split(X,y,test_size=0.2,stratify =y,shuffle=True,random_state = 111)\n"
   ]
  },
  {
   "cell_type": "code",
   "execution_count": 6,
   "metadata": {},
   "outputs": [],
   "source": [
    "from keras.callbacks import EarlyStopping,ModelCheckpoint\n",
    "early_stop = EarlyStopping(patience=5)\n",
    "checkpoint = ModelCheckpoint('D:\\Ravi_Data\\weights.hdf5', monitor='val_loss', save_best_only = True)\n",
    "\n",
    "# Fit your model to the training data for 200 epochs\n",
    "details = model.fit(X_train,y_train,epochs=500,validation_split =0.2 ,callbacks = [early_stop,checkpoint],\n",
    "                    batch_size =32,verbose = False)\n"
   ]
  },
  {
   "cell_type": "code",
   "execution_count": 7,
   "metadata": {},
   "outputs": [
    {
     "data": {
      "image/png": "[encoded data removed]",
      "text/plain": [
       "<matplotlib.figure.Figure at 0x2daca74c0f0>"
      ]
     },
     "metadata": {},
     "output_type": "display_data"
    }
   ],
   "source": [
    "plt.plot(details.history['accuracy'])\n",
    "plt.plot(details.history['val_accuracy'])       \n",
    "plt.legend(['Train','Test'])\n",
    "plt.show() "
   ]
  },
  {
   "cell_type": "code",
   "execution_count": 8,
   "metadata": {},
   "outputs": [
    {
     "name": "stdout",
     "output_type": "stream",
     "text": [
      "5/5 [==============================] - 0s 2ms/step - loss: 0.7045 - accuracy: 0.7563\n",
      "Accuracy: 0.7562500238418579\n"
     ]
    }
   ],
   "source": [
    "model.load_weights('D:\\Ravi_Data\\weights.hdf5')\n",
    "# Evaluate your model accuracy on the test data\n",
    "accuracy = model.evaluate(X_test,y_test)[1]\n",
    "\n",
    "# Print accuracy\n",
    "print('Accuracy:', accuracy)"
   ]
  },
  {
   "cell_type": "code",
   "execution_count": 9,
   "metadata": {},
   "outputs": [
    {
     "name": "stdout",
     "output_type": "stream",
     "text": [
      "                        3 | [0. 0. 0. 1.]\n",
      "                        1 | [0. 1. 0. 0.]\n",
      "                        2 | [0. 0. 1. 0.]\n",
      "                        0 | [0. 0. 1. 0.]\n",
      "                        3 | [0. 0. 0. 1.]\n",
      "                        3 | [0. 0. 0. 1.]\n",
      "                        0 | [0. 0. 1. 0.]\n",
      "                        3 | [0. 0. 0. 1.]\n",
      "                        2 | [0. 0. 1. 0.]\n",
      "                        2 | [0. 0. 1. 0.]\n",
      "                        1 | [0. 1. 0. 0.]\n",
      "                        2 | [0. 0. 1. 0.]\n",
      "                        0 | [0. 0. 1. 0.]\n",
      "                        1 | [0. 1. 0. 0.]\n",
      "                        2 | [1. 0. 0. 0.]\n",
      "                        1 | [0. 1. 0. 0.]\n",
      "                        3 | [0. 0. 0. 1.]\n",
      "                        3 | [0. 0. 0. 1.]\n",
      "                        2 | [0. 0. 1. 0.]\n",
      "                        1 | [0. 1. 0. 0.]\n",
      "                        2 | [0. 0. 1. 0.]\n",
      "                        2 | [1. 0. 0. 0.]\n",
      "                        0 | [1. 0. 0. 0.]\n",
      "                        3 | [1. 0. 0. 0.]\n",
      "                        3 | [0. 0. 0. 1.]\n",
      "                        2 | [0. 0. 1. 0.]\n",
      "                        1 | [0. 1. 0. 0.]\n",
      "                        1 | [0. 1. 0. 0.]\n",
      "                        2 | [0. 0. 1. 0.]\n",
      "                        3 | [0. 0. 0. 1.]\n",
      "                        3 | [0. 0. 0. 1.]\n",
      "                        3 | [0. 0. 0. 1.]\n",
      "                        2 | [1. 0. 0. 0.]\n",
      "                        3 | [1. 0. 0. 0.]\n",
      "                        2 | [0. 0. 1. 0.]\n",
      "                        3 | [1. 0. 0. 0.]\n",
      "                        1 | [0. 1. 0. 0.]\n",
      "                        2 | [1. 0. 0. 0.]\n",
      "                        2 | [0. 0. 1. 0.]\n",
      "                        2 | [0. 0. 1. 0.]\n",
      "                        2 | [0. 0. 1. 0.]\n",
      "                        2 | [0. 0. 1. 0.]\n",
      "                        2 | [0. 0. 1. 0.]\n",
      "                        3 | [0. 0. 0. 1.]\n",
      "                        3 | [0. 0. 0. 1.]\n",
      "                        2 | [0. 0. 1. 0.]\n",
      "                        3 | [0. 0. 0. 1.]\n",
      "                        2 | [1. 0. 0. 0.]\n",
      "                        2 | [1. 0. 0. 0.]\n",
      "                        2 | [0. 0. 1. 0.]\n",
      "                        2 | [0. 0. 0. 1.]\n",
      "                        3 | [0. 0. 0. 1.]\n",
      "                        3 | [0. 0. 0. 1.]\n",
      "                        2 | [0. 0. 1. 0.]\n",
      "                        3 | [0. 0. 0. 1.]\n",
      "                        2 | [0. 0. 1. 0.]\n",
      "                        1 | [0. 1. 0. 0.]\n",
      "                        1 | [0. 1. 0. 0.]\n",
      "                        2 | [1. 0. 0. 0.]\n",
      "                        3 | [0. 0. 0. 1.]\n",
      "                        0 | [1. 0. 0. 0.]\n",
      "                        3 | [0. 0. 0. 1.]\n",
      "                        1 | [0. 1. 0. 0.]\n",
      "                        3 | [1. 0. 0. 0.]\n",
      "                        1 | [0. 1. 0. 0.]\n",
      "                        0 | [1. 0. 0. 0.]\n",
      "                        2 | [0. 0. 1. 0.]\n",
      "                        1 | [0. 1. 0. 0.]\n",
      "                        3 | [0. 0. 0. 1.]\n",
      "                        2 | [0. 0. 1. 0.]\n",
      "                        2 | [0. 0. 1. 0.]\n",
      "                        3 | [0. 0. 0. 1.]\n",
      "                        3 | [1. 0. 0. 0.]\n",
      "                        0 | [1. 0. 0. 0.]\n",
      "                        1 | [0. 1. 0. 0.]\n",
      "                        2 | [1. 0. 0. 0.]\n",
      "                        3 | [0. 0. 0. 1.]\n",
      "                        1 | [1. 0. 0. 0.]\n",
      "                        3 | [1. 0. 0. 0.]\n",
      "                        2 | [1. 0. 0. 0.]\n",
      "                        0 | [1. 0. 0. 0.]\n",
      "                        1 | [0. 1. 0. 0.]\n",
      "                        1 | [0. 1. 0. 0.]\n",
      "                        3 | [0. 1. 0. 0.]\n",
      "                        0 | [0. 0. 0. 1.]\n",
      "                        1 | [0. 1. 0. 0.]\n",
      "                        0 | [1. 0. 0. 0.]\n",
      "                        2 | [0. 0. 1. 0.]\n",
      "                        0 | [1. 0. 0. 0.]\n",
      "                        3 | [0. 0. 0. 1.]\n",
      "                        2 | [0. 0. 1. 0.]\n",
      "                        1 | [0. 1. 0. 0.]\n",
      "                        3 | [1. 0. 0. 0.]\n",
      "                        3 | [0. 0. 0. 1.]\n",
      "                        1 | [0. 0. 0. 1.]\n",
      "                        3 | [1. 0. 0. 0.]\n",
      "                        2 | [1. 0. 0. 0.]\n",
      "                        1 | [0. 1. 0. 0.]\n",
      "                        1 | [1. 0. 0. 0.]\n",
      "                        2 | [1. 0. 0. 0.]\n",
      "                        3 | [0. 0. 0. 1.]\n",
      "                        1 | [0. 1. 0. 0.]\n",
      "                        2 | [1. 0. 0. 0.]\n",
      "                        2 | [0. 0. 1. 0.]\n",
      "                        3 | [0. 0. 0. 1.]\n",
      "                        1 | [0. 1. 0. 0.]\n",
      "                        0 | [1. 0. 0. 0.]\n",
      "                        1 | [0. 1. 0. 0.]\n",
      "                        0 | [1. 0. 0. 0.]\n",
      "                        2 | [1. 0. 0. 0.]\n",
      "                        1 | [0. 1. 0. 0.]\n",
      "                        1 | [0. 1. 0. 0.]\n",
      "                        3 | [0. 0. 0. 1.]\n",
      "                        3 | [0. 0. 0. 1.]\n",
      "                        3 | [0. 0. 0. 1.]\n",
      "                        0 | [1. 0. 0. 0.]\n",
      "                        2 | [1. 0. 0. 0.]\n",
      "                        2 | [0. 0. 1. 0.]\n",
      "                        1 | [0. 1. 0. 0.]\n",
      "                        1 | [0. 1. 0. 0.]\n",
      "                        2 | [0. 0. 1. 0.]\n",
      "                        1 | [0. 1. 0. 0.]\n",
      "                        0 | [1. 0. 0. 0.]\n",
      "                        1 | [0. 1. 0. 0.]\n",
      "                        1 | [0. 1. 0. 0.]\n",
      "                        2 | [1. 0. 0. 0.]\n",
      "                        1 | [0. 1. 0. 0.]\n",
      "                        1 | [0. 1. 0. 0.]\n",
      "                        3 | [1. 0. 0. 0.]\n",
      "                        2 | [0. 0. 1. 0.]\n",
      "                        0 | [0. 0. 1. 0.]\n",
      "                        2 | [0. 0. 1. 0.]\n",
      "                        3 | [0. 0. 0. 1.]\n",
      "                        3 | [0. 0. 0. 1.]\n",
      "                        2 | [0. 0. 1. 0.]\n",
      "                        2 | [0. 0. 1. 0.]\n",
      "                        2 | [0. 0. 1. 0.]\n",
      "                        3 | [0. 0. 0. 1.]\n",
      "                        2 | [0. 0. 1. 0.]\n",
      "                        2 | [0. 0. 1. 0.]\n",
      "                        1 | [0. 1. 0. 0.]\n",
      "                        3 | [0. 0. 0. 1.]\n",
      "                        2 | [0. 0. 1. 0.]\n",
      "                        2 | [0. 0. 1. 0.]\n",
      "                        1 | [0. 1. 0. 0.]\n",
      "                        3 | [0. 0. 0. 1.]\n",
      "                        1 | [0. 1. 0. 0.]\n",
      "                        3 | [0. 0. 0. 1.]\n",
      "                        2 | [1. 0. 0. 0.]\n",
      "                        0 | [0. 0. 0. 1.]\n",
      "                        3 | [0. 0. 0. 1.]\n",
      "                        0 | [1. 0. 0. 0.]\n",
      "                        1 | [0. 1. 0. 0.]\n",
      "                        1 | [0. 1. 0. 0.]\n",
      "                        0 | [0. 0. 0. 1.]\n",
      "                        0 | [0. 1. 0. 0.]\n",
      "                        2 | [0. 0. 1. 0.]\n",
      "                        1 | [0. 1. 0. 0.]\n",
      "                        1 | [0. 1. 0. 0.]\n",
      "                        2 | [1. 0. 0. 0.]\n"
     ]
    }
   ],
   "source": [
    "preds = model.predict(X_test)\n",
    "\n",
    "preds_chosen = [np.argmax(pred) for pred in preds]\n",
    "pred_category = [cat_dict[k] for k in preds_chosen]\n",
    "\n",
    "for i,pred in enumerate(preds_chosen):\n",
    "    print(\"{:25} | {}\".format(pred,y_test[i]))"
   ]
  },
  {
   "cell_type": "code",
   "execution_count": 10,
   "metadata": {},
   "outputs": [
    {
     "name": "stdout",
     "output_type": "stream",
     "text": [
      "WARNING:tensorflow:From <ipython-input-10-bc459dba29cd>:1: Sequential.predict_classes (from tensorflow.python.keras.engine.sequential) is deprecated and will be removed after 2021-01-01.\n",
      "Instructions for updating:\n",
      "Please use instead:* `np.argmax(model.predict(x), axis=-1)`,   if your model does multi-class classification   (e.g. if it uses a `softmax` last-layer activation).* `(model.predict(x) > 0.5).astype(\"int32\")`,   if your model does binary classification   (e.g. if it uses a `sigmoid` last-layer activation).\n"
     ]
    },
    {
     "data": {
      "text/plain": [
       "array([3, 1, 2, 0, 3, 3, 0, 3, 2, 2, 1, 2, 0, 1, 2, 1, 3, 3, 2, 1, 2, 2,\n",
       "       0, 3, 3, 2, 1, 1, 2, 3, 3, 3, 2, 3, 2, 3, 1, 2, 2, 2, 2, 2, 2, 3,\n",
       "       3, 2, 3, 2, 2, 2, 2, 3, 3, 2, 3, 2, 1, 1, 2, 3, 0, 3, 1, 3, 1, 0,\n",
       "       2, 1, 3, 2, 2, 3, 3, 0, 1, 2, 3, 1, 3, 2, 0, 1, 1, 3, 0, 1, 0, 2,\n",
       "       0, 3, 2, 1, 3, 3, 1, 3, 2, 1, 1, 2, 3, 1, 2, 2, 3, 1, 0, 1, 0, 2,\n",
       "       1, 1, 3, 3, 3, 0, 2, 2, 1, 1, 2, 1, 0, 1, 1, 2, 1, 1, 3, 2, 0, 2,\n",
       "       3, 3, 2, 2, 2, 3, 2, 2, 1, 3, 2, 2, 1, 3, 1, 3, 2, 0, 3, 0, 1, 1,\n",
       "       0, 0, 2, 1, 1, 2], dtype=int64)"
      ]
     },
     "execution_count": 10,
     "metadata": {},
     "output_type": "execute_result"
    }
   ],
   "source": [
    "model.predict_classes(X_test)"
   ]
  }
 ],
 "metadata": {
  "kernelspec": {
   "display_name": "Python 3",
   "language": "python",
   "name": "python3"
  },
  "language_info": {
   "codemirror_mode": {
    "name": "ipython",
    "version": 3
   },
   "file_extension": ".py",
   "mimetype": "text/x-python",
   "name": "python",
   "nbconvert_exporter": "python",
   "pygments_lexer": "ipython3",
   "version": "3.6.4"
  }
 },
 "nbformat": 4,
 "nbformat_minor": 2
}
