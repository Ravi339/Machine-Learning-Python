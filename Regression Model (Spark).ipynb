{
 "cells": [
  {
   "cell_type": "code",
   "execution_count": 1,
   "metadata": {},
   "outputs": [],
   "source": [
    "import numpy as np\n",
    "import pandas as pd\n",
    "import matplotlib.pyplot as plt\n",
    "from pyspark.sql import SparkSession\n",
    "from pyspark.sql.types import *\n",
    "\n",
    "spark = SparkSession.builder.appName('sparkTrial').master('local').getOrCreate()\n",
    "sc= spark.sparkContext"
   ]
  },
  {
   "cell_type": "code",
   "execution_count": 2,
   "metadata": {},
   "outputs": [
    {
     "name": "stdout",
     "output_type": "stream",
     "text": [
      "275000\n",
      "+---+---+---+-------+------+---+----+------+--------+-----+\n",
      "|mon|dom|dow|carrier|flight|org|mile|depart|duration|delay|\n",
      "+---+---+---+-------+------+---+----+------+--------+-----+\n",
      "| 10| 10|  1|     OO|  5836|ORD| 157|  8.18|      51|   27|\n",
      "|  1|  4|  1|     OO|  5866|ORD| 466|  15.5|     102| null|\n",
      "| 11| 22|  1|     OO|  6016|ORD| 738|  7.17|     127|  -19|\n",
      "|  2| 14|  5|     B6|   199|JFK|2248| 21.17|     365|   60|\n",
      "|  5| 25|  3|     WN|  1675|SJC| 386| 12.92|      85|   22|\n",
      "+---+---+---+-------+------+---+----+------+--------+-----+\n",
      "only showing top 5 rows\n",
      "\n"
     ]
    }
   ],
   "source": [
    "\n",
    "data = spark.read.csv('file:///D:/Ravi_Data/Pyspark/flightsFull.csv',header=True,sep=\",\",inferSchema=True, nullValue = \"NA\")\n",
    "print(data.count())\n",
    "data.show(5)"
   ]
  },
  {
   "cell_type": "code",
   "execution_count": 3,
   "metadata": {},
   "outputs": [
    {
     "data": {
      "text/html": [
       "<div>\n",
       "<style scoped>\n",
       "    .dataframe tbody tr th:only-of-type {\n",
       "        vertical-align: middle;\n",
       "    }\n",
       "\n",
       "    .dataframe tbody tr th {\n",
       "        vertical-align: top;\n",
       "    }\n",
       "\n",
       "    .dataframe thead th {\n",
       "        text-align: right;\n",
       "    }\n",
       "</style>\n",
       "<table border=\"1\" class=\"dataframe\">\n",
       "  <thead>\n",
       "    <tr style=\"text-align: right;\">\n",
       "      <th></th>\n",
       "      <th>Type</th>\n",
       "      <th>Count</th>\n",
       "      <th>Columns</th>\n",
       "    </tr>\n",
       "  </thead>\n",
       "  <tbody>\n",
       "    <tr>\n",
       "      <th>0</th>\n",
       "      <td>double</td>\n",
       "      <td>1</td>\n",
       "      <td>depart</td>\n",
       "    </tr>\n",
       "    <tr>\n",
       "      <th>1</th>\n",
       "      <td>int</td>\n",
       "      <td>7</td>\n",
       "      <td>duration | mile | delay | mon | dow | flight | dom</td>\n",
       "    </tr>\n",
       "    <tr>\n",
       "      <th>2</th>\n",
       "      <td>string</td>\n",
       "      <td>2</td>\n",
       "      <td>carrier | org</td>\n",
       "    </tr>\n",
       "  </tbody>\n",
       "</table>\n",
       "</div>"
      ],
      "text/plain": [
       "     Type  Count                                             Columns\n",
       "0  double  1      depart                                            \n",
       "1  int     7      duration | mile | delay | mon | dow | flight | dom\n",
       "2  string  2      carrier | org                                     "
      ]
     },
     "execution_count": 3,
     "metadata": {},
     "output_type": "execute_result"
    }
   ],
   "source": [
    "pd.set_option('max_colwidth', -1) # to prevent truncating of columns\n",
    "\n",
    "def column_types(spark_df):\n",
    "    \"\"\"Count number of columns per type\"\"\"\n",
    "    return pd.DataFrame(spark_df.dtypes).groupby(1, as_index=False)[0].agg({'Count':'count', 'Columns': lambda x: \" | \".join(set(x))}).rename(columns={1:\"Type\"})\n",
    "\n",
    "column_types(data)"
   ]
  },
  {
   "cell_type": "code",
   "execution_count": 4,
   "metadata": {},
   "outputs": [
    {
     "data": {
      "text/html": [
       "<div>\n",
       "<style scoped>\n",
       "    .dataframe tbody tr th:only-of-type {\n",
       "        vertical-align: middle;\n",
       "    }\n",
       "\n",
       "    .dataframe tbody tr th {\n",
       "        vertical-align: top;\n",
       "    }\n",
       "\n",
       "    .dataframe thead th {\n",
       "        text-align: right;\n",
       "    }\n",
       "</style>\n",
       "<table border=\"1\" class=\"dataframe\">\n",
       "  <thead>\n",
       "    <tr style=\"text-align: right;\">\n",
       "      <th></th>\n",
       "      <th>mon</th>\n",
       "      <th>dom</th>\n",
       "      <th>dow</th>\n",
       "      <th>carrier</th>\n",
       "      <th>flight</th>\n",
       "      <th>org</th>\n",
       "      <th>mile</th>\n",
       "      <th>depart</th>\n",
       "      <th>duration</th>\n",
       "      <th>delay</th>\n",
       "    </tr>\n",
       "  </thead>\n",
       "  <tbody>\n",
       "    <tr>\n",
       "      <th>0</th>\n",
       "      <td>0</td>\n",
       "      <td>0</td>\n",
       "      <td>0</td>\n",
       "      <td>0</td>\n",
       "      <td>0</td>\n",
       "      <td>0</td>\n",
       "      <td>0</td>\n",
       "      <td>0</td>\n",
       "      <td>0</td>\n",
       "      <td>16711</td>\n",
       "    </tr>\n",
       "  </tbody>\n",
       "</table>\n",
       "</div>"
      ],
      "text/plain": [
       "   mon  dom  dow  carrier  flight  org  mile  depart  duration  delay\n",
       "0  0    0    0    0        0       0    0     0       0         16711"
      ]
     },
     "execution_count": 4,
     "metadata": {},
     "output_type": "execute_result"
    }
   ],
   "source": [
    "from pyspark.sql.functions import isnull, when, count\n",
    "data.select([count(when(isnull(c), c)).alias(c) for c in data.columns]).toPandas()"
   ]
  },
  {
   "cell_type": "code",
   "execution_count": 5,
   "metadata": {},
   "outputs": [],
   "source": [
    "data = data.drop(\"flight\")\n",
    "data = data.filter(\"duration IS NOT NULL\")"
   ]
  },
  {
   "cell_type": "code",
   "execution_count": 6,
   "metadata": {},
   "outputs": [
    {
     "name": "stdout",
     "output_type": "stream",
     "text": [
      "258289\n"
     ]
    },
    {
     "data": {
      "text/html": [
       "<div>\n",
       "<style scoped>\n",
       "    .dataframe tbody tr th:only-of-type {\n",
       "        vertical-align: middle;\n",
       "    }\n",
       "\n",
       "    .dataframe tbody tr th {\n",
       "        vertical-align: top;\n",
       "    }\n",
       "\n",
       "    .dataframe thead th {\n",
       "        text-align: right;\n",
       "    }\n",
       "</style>\n",
       "<table border=\"1\" class=\"dataframe\">\n",
       "  <thead>\n",
       "    <tr style=\"text-align: right;\">\n",
       "      <th></th>\n",
       "      <th>mon</th>\n",
       "      <th>dom</th>\n",
       "      <th>dow</th>\n",
       "      <th>carrier</th>\n",
       "      <th>org</th>\n",
       "      <th>mile</th>\n",
       "      <th>depart</th>\n",
       "      <th>duration</th>\n",
       "      <th>delay</th>\n",
       "    </tr>\n",
       "  </thead>\n",
       "  <tbody>\n",
       "    <tr>\n",
       "      <th>0</th>\n",
       "      <td>0</td>\n",
       "      <td>0</td>\n",
       "      <td>0</td>\n",
       "      <td>0</td>\n",
       "      <td>0</td>\n",
       "      <td>0</td>\n",
       "      <td>0</td>\n",
       "      <td>0</td>\n",
       "      <td>0</td>\n",
       "    </tr>\n",
       "  </tbody>\n",
       "</table>\n",
       "</div>"
      ],
      "text/plain": [
       "   mon  dom  dow  carrier  org  mile  depart  duration  delay\n",
       "0  0    0    0    0        0    0     0       0         0    "
      ]
     },
     "execution_count": 6,
     "metadata": {},
     "output_type": "execute_result"
    }
   ],
   "source": [
    "num_cols = [\"mon\",\"dom\",\"dow\",\"mile\",\"depart\",\"delay\"]\n",
    "str_cols = ['carrier','org']\n",
    "\n",
    "data = data.dropna(subset= num_cols + str_cols)\n",
    "print(data.count())\n",
    "\n",
    "data.select([count(when(isnull(c), c)).alias(c) for c in data.columns]).toPandas()"
   ]
  },
  {
   "cell_type": "code",
   "execution_count": 7,
   "metadata": {},
   "outputs": [
    {
     "name": "stdout",
     "output_type": "stream",
     "text": [
      "+---+---+---+-------+---+----+------+--------+-----+\n",
      "|mon|dom|dow|carrier|org|mile|depart|duration|delay|\n",
      "+---+---+---+-------+---+----+------+--------+-----+\n",
      "|0  |1  |2  |AA     |JFK|740 |8.58  |170     |17   |\n",
      "|0  |1  |2  |AA     |JFK|944 |15.75 |185     |16   |\n",
      "|0  |1  |2  |AA     |JFK|1391|14.92 |245     |6    |\n",
      "|0  |1  |2  |AA     |JFK|1597|13.5  |225     |1    |\n",
      "|0  |1  |2  |AA     |JFK|1623|7.17  |230     |19   |\n",
      "+---+---+---+-------+---+----+------+--------+-----+\n",
      "only showing top 5 rows\n",
      "\n"
     ]
    }
   ],
   "source": [
    "train,test = data.randomSplit([0.7,0.3], seed = 111)\n",
    "train.show(5,truncate = False)"
   ]
  },
  {
   "cell_type": "code",
   "execution_count": 8,
   "metadata": {},
   "outputs": [
    {
     "name": "stdout",
     "output_type": "stream",
     "text": [
      "+-------------------------------------------------------------+--------+\n",
      "|features                                                     |duration|\n",
      "+-------------------------------------------------------------+--------+\n",
      "|(21,[1,10,16,17,18,19,20],[1.0,1.0,1.0,2.0,740.0,8.58,17.0]) |170     |\n",
      "|(21,[1,10,16,17,18,19,20],[1.0,1.0,1.0,2.0,944.0,15.75,16.0])|185     |\n",
      "|(21,[1,10,16,17,18,19,20],[1.0,1.0,1.0,2.0,1391.0,14.92,6.0])|245     |\n",
      "|(21,[1,10,16,17,18,19,20],[1.0,1.0,1.0,2.0,1597.0,13.5,1.0]) |225     |\n",
      "|(21,[1,10,16,17,18,19,20],[1.0,1.0,1.0,2.0,1623.0,7.17,19.0])|230     |\n",
      "+-------------------------------------------------------------+--------+\n",
      "only showing top 5 rows\n",
      "\n"
     ]
    }
   ],
   "source": [
    "from pyspark.ml import Pipeline\n",
    "from pyspark.ml.feature import StringIndexer, OneHotEncoder, VectorAssembler\n",
    "\n",
    "indexers = [StringIndexer(inputCol=c, outputCol=\"{0}_indexed\".format(c))for c in str_cols]\n",
    "\n",
    "encoders = [OneHotEncoder(inputCol=indexer.getOutputCol(),\n",
    "                          outputCol=\"{0}_encoded\".format(indexer.getOutputCol())) for indexer in indexers]\n",
    "\n",
    "assembler = VectorAssembler(inputCols=[encoder.getOutputCol() for encoder in encoders ] + num_cols,\n",
    "                            outputCol=\"features\")\n",
    "\n",
    "\n",
    "pipeline = Pipeline(stages=indexers + encoders + [assembler])\n",
    "\n",
    "fit_pipeline = pipeline.fit(train)\n",
    "\n",
    "train = fit_pipeline.transform(train)\n",
    "test = fit_pipeline.transform(test)\n",
    "\n",
    "train.select(\"features\",\"duration\").show(5,truncate=False)"
   ]
  },
  {
   "cell_type": "code",
   "execution_count": 9,
   "metadata": {},
   "outputs": [
    {
     "name": "stdout",
     "output_type": "stream",
     "text": [
      "Linear Regression RMSE:  10.714818763541519\n"
     ]
    }
   ],
   "source": [
    "from pyspark.ml.regression import LinearRegression\n",
    "from pyspark.ml.evaluation import RegressionEvaluator\n",
    "\n",
    "evaluator = RegressionEvaluator(labelCol=\"duration\", metricName=\"rmse\")\n",
    "\n",
    "Lreg = LinearRegression(labelCol = 'duration', regParam = 0.1,elasticNetParam =0).fit(train)\n",
    "predictions = Lreg.transform(test)\n",
    "\n",
    "# Calculate the RMSE\n",
    "RMSE = evaluator.evaluate(predictions)\n",
    "print(\"Linear Regression RMSE: \", RMSE)"
   ]
  },
  {
   "cell_type": "code",
   "execution_count": 10,
   "metadata": {},
   "outputs": [
    {
     "name": "stdout",
     "output_type": "stream",
     "text": [
      "Gradient boosting RMSE:  9.327425402692475\n"
     ]
    }
   ],
   "source": [
    "from pyspark.ml.regression import GBTRegressor\n",
    "\n",
    "GBT = GBTRegressor(labelCol = 'duration').fit(train)\n",
    "predictions = GBT.transform(test)\n",
    "\n",
    "# Calculate the RMSE\n",
    "RMSE = evaluator.evaluate(predictions)\n",
    "print(\"Gradient boosting RMSE: \", RMSE)"
   ]
  },
  {
   "cell_type": "code",
   "execution_count": 11,
   "metadata": {},
   "outputs": [
    {
     "name": "stdout",
     "output_type": "stream",
     "text": [
      "Random Forest RMSE:  22.233015982720158\n"
     ]
    }
   ],
   "source": [
    "from pyspark.ml.regression import RandomForestRegressor\n",
    "from pyspark.ml.tuning import CrossValidator,ParamGridBuilder\n",
    "\n",
    "rf = RandomForestRegressor(labelCol=\"duration\", featuresCol=\"features\")\n",
    "\n",
    "# grid = ParamGridBuilder() \\\n",
    "# .addGrid(rf.numTrees, [100,300]) \\\n",
    "# .addGrid(rf.maxDepth, [10,25]) \\\n",
    "# .build()\n",
    "\n",
    "grid = ParamGridBuilder().build()\n",
    "\n",
    "cv_models = CrossValidator(estimator=rf,\n",
    "                    estimatorParamMaps=grid,\n",
    "                    evaluator=evaluator,\n",
    "                    numFolds=3).fit(train)\n",
    "\n",
    "bestModel = cv_models.bestModel\n",
    "predictions= bestModel.transform(test)\n",
    "\n",
    "# predictions = rf.transform(test)\n",
    "\n",
    "RMSE = evaluator.evaluate(predictions)\n",
    "print(\"Random Forest RMSE: \", RMSE)"
   ]
  },
  {
   "cell_type": "code",
   "execution_count": 14,
   "metadata": {},
   "outputs": [
    {
     "name": "stdout",
     "output_type": "stream",
     "text": [
      "21\n",
      "[0, 1, 2, 3, 4, 5, 6, 7, 8, 9, 10, 11, 12, 13, 14, 15, 16, 17, 18, 19, 20]\n"
     ]
    },
    {
     "data": {
      "text/plain": [
       "Text(0.5,1,'Feature Importances')"
      ]
     },
     "execution_count": 14,
     "metadata": {},
     "output_type": "execute_result"
    },
    {
     "data": {
      "image/png": "[encoded data removed]",
      "text/plain": [
       "<matplotlib.figure.Figure at 0x26923482e10>"
      ]
     },
     "metadata": {},
     "output_type": "display_data"
    }
   ],
   "source": [
    "# # bestModel = cv_models.bestModel\n",
    "\n",
    "#importances = bestModel.featureImportances\n",
    "\n",
    "feature_list = list(set(train.columns)-set(str_cols))\n",
    "\n",
    "importances = bestModel.featureImportances\n",
    "\n",
    "print(len(importances))\n",
    "\n",
    "\n",
    "x_values = list(range(len(importances)))\n",
    "print(x_values)\n",
    "\n",
    "plt.bar(x_values, importances, orientation = 'vertical')\n",
    "plt.xticks(x_values,feature_list, rotation=90)\n",
    "plt.ylabel('Importance')\n",
    "plt.xlabel('Feature')\n",
    "plt.title('Feature Importances')"
   ]
  },
  {
   "cell_type": "code",
   "execution_count": null,
   "metadata": {},
   "outputs": [],
   "source": []
  },
  {
   "cell_type": "code",
   "execution_count": null,
   "metadata": {},
   "outputs": [],
   "source": []
  }
 ],
 "metadata": {
  "kernelspec": {
   "display_name": "Python 3",
   "language": "python",
   "name": "python3"
  },
  "language_info": {
   "codemirror_mode": {
    "name": "ipython",
    "version": 3
   },
   "file_extension": ".py",
   "mimetype": "text/x-python",
   "name": "python",
   "nbconvert_exporter": "python",
   "pygments_lexer": "ipython3",
   "version": "3.6.4"
  }
 },
 "nbformat": 4,
 "nbformat_minor": 2
}
