{
 "cells": [
  {
   "cell_type": "markdown",
   "metadata": {},
   "source": [
    "# Text Analysis ( NLP)"
   ]
  },
  {
   "cell_type": "markdown",
   "metadata": {},
   "source": [
    "Collection of Text messages along with label as spam or not spam. Create a machine learning model to detect spam messages."
   ]
  },
  {
   "cell_type": "code",
   "execution_count": 1,
   "metadata": {},
   "outputs": [],
   "source": [
    "# loading basic libraries\n",
    "import pandas as pd\n",
    "from matplotlib import pyplot as plt\n",
    "import seaborn as sns\n",
    "import numpy as np\n",
    "import warnings;warnings.filterwarnings('ignore');"
   ]
  },
  {
   "cell_type": "code",
   "execution_count": 2,
   "metadata": {},
   "outputs": [
    {
     "name": "stdout",
     "output_type": "stream",
     "text": [
      "<class 'pandas.core.frame.DataFrame'>\n",
      "RangeIndex: 5572 entries, 0 to 5571\n",
      "Data columns (total 2 columns):\n",
      "label    5572 non-null object\n",
      "text     5572 non-null object\n",
      "dtypes: object(2)\n",
      "memory usage: 87.2+ KB\n",
      "None\n"
     ]
    },
    {
     "data": {
      "text/html": [
       "<div>\n",
       "<style scoped>\n",
       "    .dataframe tbody tr th:only-of-type {\n",
       "        vertical-align: middle;\n",
       "    }\n",
       "\n",
       "    .dataframe tbody tr th {\n",
       "        vertical-align: top;\n",
       "    }\n",
       "\n",
       "    .dataframe thead th {\n",
       "        text-align: right;\n",
       "    }\n",
       "</style>\n",
       "<table border=\"1\" class=\"dataframe\">\n",
       "  <thead>\n",
       "    <tr style=\"text-align: right;\">\n",
       "      <th></th>\n",
       "      <th>label</th>\n",
       "      <th>text</th>\n",
       "    </tr>\n",
       "  </thead>\n",
       "  <tbody>\n",
       "    <tr>\n",
       "      <th>0</th>\n",
       "      <td>ham</td>\n",
       "      <td>Go until jurong point, crazy.. Available only ...</td>\n",
       "    </tr>\n",
       "    <tr>\n",
       "      <th>1</th>\n",
       "      <td>ham</td>\n",
       "      <td>Ok lar... Joking wif u oni...</td>\n",
       "    </tr>\n",
       "    <tr>\n",
       "      <th>2</th>\n",
       "      <td>spam</td>\n",
       "      <td>Free entry in 2 a wkly comp to win FA Cup fina...</td>\n",
       "    </tr>\n",
       "    <tr>\n",
       "      <th>3</th>\n",
       "      <td>ham</td>\n",
       "      <td>U dun say so early hor... U c already then say...</td>\n",
       "    </tr>\n",
       "    <tr>\n",
       "      <th>4</th>\n",
       "      <td>ham</td>\n",
       "      <td>Nah I don't think he goes to usf, he lives aro...</td>\n",
       "    </tr>\n",
       "  </tbody>\n",
       "</table>\n",
       "</div>"
      ],
      "text/plain": [
       "  label                                               text\n",
       "0   ham  Go until jurong point, crazy.. Available only ...\n",
       "1   ham                      Ok lar... Joking wif u oni...\n",
       "2  spam  Free entry in 2 a wkly comp to win FA Cup fina...\n",
       "3   ham  U dun say so early hor... U c already then say...\n",
       "4   ham  Nah I don't think he goes to usf, he lives aro..."
      ]
     },
     "execution_count": 2,
     "metadata": {},
     "output_type": "execute_result"
    }
   ],
   "source": [
    "# Reading Data\n",
    "data = pd.read_csv(\"D:\\Ravi_Data\\spam.csv\", encoding = 'latin-1')\n",
    "# subsetting data for only required column\n",
    "data = data[['label','text']]\n",
    "print(data.info())\n",
    "data.head()\n",
    "# No null values"
   ]
  },
  {
   "cell_type": "code",
   "execution_count": 3,
   "metadata": {},
   "outputs": [
    {
     "data": {
      "image/png": "[encoded data removed]",
      "text/plain": [
       "<matplotlib.figure.Figure at 0x1e15eb64f98>"
      ]
     },
     "metadata": {},
     "output_type": "display_data"
    }
   ],
   "source": [
    "data['label'] = data['label'].apply(lambda x: 1 if x == \"spam\" else 0)\n",
    "\n",
    "data[\"label\"].value_counts().plot(kind = 'pie',autopct = '%1.1f%%',explode = [0, 0.1])\n",
    "plt.legend([\"Genuine\", \"Spam\"])\n",
    "plt.show()"
   ]
  },
  {
   "cell_type": "code",
   "execution_count": 4,
   "metadata": {},
   "outputs": [
    {
     "name": "stdout",
     "output_type": "stream",
     "text": [
      "                                                text\n",
      "0  [Go, until, jurong, point, ,, crazy.., Availab...\n",
      "1           [Ok, lar, ..., Joking, wif, u, oni, ...]\n",
      "2  [Free, entry, in, 2, a, wkly, comp, to, win, F...\n",
      "3  [U, dun, say, so, early, hor, ..., U, c, alrea...\n",
      "4  [Nah, I, do, n't, think, he, goes, to, usf, ,,...\n"
     ]
    }
   ],
   "source": [
    "# Creating token using word tokonizer \n",
    "# To proceed with data cleaning process\n",
    "from nltk.tokenize import word_tokenize\n",
    "\n",
    "data['text'] = data['text'].apply(lambda x: word_tokenize(x))\n",
    "print(data[['text']].head()) # created list of list"
   ]
  },
  {
   "cell_type": "code",
   "execution_count": 5,
   "metadata": {},
   "outputs": [],
   "source": [
    "# Created function for doing 3 cleaning processes in one go\n",
    "## 1. Removing all tokens which are not alphabetic\n",
    "## 2. converting all tokens into lower case\n",
    "## 3. lemmaterize all tokens\n",
    "from nltk.stem import WordNetLemmatizer\n",
    "\n",
    "def lower_alpha_lemm(x):\n",
    "    text = []\n",
    "    for k in x:\n",
    "        WordNetLemmatizer().lemmatize(k)\n",
    "        if k.isalpha():\n",
    "            k.lower()\n",
    "            text.append(k)\n",
    "    return text\n",
    "\n",
    "data['text'] = data['text'].apply(lower_alpha_lemm)"
   ]
  },
  {
   "cell_type": "code",
   "execution_count": 6,
   "metadata": {},
   "outputs": [
    {
     "data": {
      "text/plain": [
       "0       [Go, until, point, Available, only, in, bugis,...\n",
       "1                                  [Ok, lar, wif, u, oni]\n",
       "2       [Free, entry, in, a, wkly, comp, to, win, FA, ...\n",
       "3       [U, dun, say, so, early, hor, U, c, already, t...\n",
       "4       [Nah, I, do, think, he, goes, to, usf, he, liv...\n",
       "                              ...                        \n",
       "5567    [This, is, the, time, we, have, tried, contact...\n",
       "5568            [Will, b, going, to, esplanade, fr, home]\n",
       "5569           [was, in, mood, for, that, So, any, other]\n",
       "5570    [The, guy, did, some, but, I, acted, like, i, ...\n",
       "5571                     [Rofl, Its, true, to, its, name]\n",
       "Name: text, Length: 5572, dtype: object"
      ]
     },
     "execution_count": 6,
     "metadata": {},
     "output_type": "execute_result"
    }
   ],
   "source": [
    "# remove all tokens that appear only once in all documents combined\n",
    "\n",
    "from collections import defaultdict\n",
    "\n",
    "frequency = defaultdict(int)\n",
    "for text in data['text']:\n",
    "    for token in text:\n",
    "        frequency[token] += 1\n",
    "\n",
    "data['text'] = [\n",
    "    [token for token in text if frequency[token] > 1]\n",
    "    for text in data['text']\n",
    "]\n",
    "data['text']"
   ]
  },
  {
   "cell_type": "code",
   "execution_count": 7,
   "metadata": {},
   "outputs": [
    {
     "name": "stdout",
     "output_type": "stream",
     "text": [
      "                                                text\n",
      "0  Go until point Available only in bugis n great...\n",
      "1                                   Ok lar wif u oni\n",
      "2  Free entry in a wkly comp to win FA Cup final ...\n",
      "3        U dun say so early hor U c already then say\n",
      "4  Nah I do think he goes to usf he lives around ...\n"
     ]
    }
   ],
   "source": [
    "# converting sentences again from list so that we can utilize CountVectorizer and TfidfVectorizer\n",
    "data['text'] = data['text'].apply(lambda x : ' '.join(x))\n",
    "print(data[['text']].head())"
   ]
  },
  {
   "cell_type": "code",
   "execution_count": 8,
   "metadata": {},
   "outputs": [],
   "source": [
    "# loading sciki learn libraries and spliting data into test and train\n",
    "from sklearn.model_selection import train_test_split\n",
    "\n",
    "X_train, X_test, y_train, y_test = train_test_split(data['text'],data['label'],test_size=0.3,random_state = 111)"
   ]
  },
  {
   "cell_type": "markdown",
   "metadata": {},
   "source": [
    "# CountVectorizer & Naive bayes Model"
   ]
  },
  {
   "cell_type": "code",
   "execution_count": 9,
   "metadata": {},
   "outputs": [],
   "source": [
    "from sklearn.feature_extraction.text import CountVectorizer\n",
    "from sklearn import metrics\n",
    "from sklearn.naive_bayes import MultinomialNB\n",
    "\n",
    "count_vectorizer = CountVectorizer(stop_words='english')\n",
    "count_train = count_vectorizer.fit_transform(X_train)\n",
    "\n",
    "# Only Transform the X test data : count_test\n",
    "count_test = count_vectorizer.transform(X_test)"
   ]
  },
  {
   "cell_type": "code",
   "execution_count": 10,
   "metadata": {},
   "outputs": [],
   "source": [
    "# Instantiate a Multinomial Naive Bayes classifier: nb_classifier\n",
    "nb_classifier = MultinomialNB()\n",
    "\n",
    "# Fit the classifier to the training data\n",
    "nb_classifier.fit(count_train,y_train)\n",
    "\n",
    "# Create the predicted tags: pred\n",
    "pred = nb_classifier.predict(count_test)"
   ]
  },
  {
   "cell_type": "code",
   "execution_count": 11,
   "metadata": {},
   "outputs": [
    {
     "name": "stdout",
     "output_type": "stream",
     "text": [
      "Count Vectorizer Score : 0.98\n",
      "Count Vectorizer fbeta : 0.93\n"
     ]
    }
   ],
   "source": [
    "# Evaluating Model\n",
    "score = metrics.accuracy_score(y_test,pred)\n",
    "print(\"Count Vectorizer Score :\",score.round(2))\n",
    "print(\"Count Vectorizer fbeta :\",metrics.fbeta_score(y_test,pred, beta = 0.5).round(2))"
   ]
  },
  {
   "cell_type": "markdown",
   "metadata": {},
   "source": [
    "# TFidfVectorizer & Naive Bayes Model"
   ]
  },
  {
   "cell_type": "code",
   "execution_count": 12,
   "metadata": {},
   "outputs": [],
   "source": [
    "from sklearn.feature_extraction.text import TfidfVectorizer\n",
    "tfidf_vectorizer = TfidfVectorizer(stop_words='english',max_df=0.7)\n",
    "\n",
    "# Tfidf vectorizer fit and transform\n",
    "tfidf_train = tfidf_vectorizer.fit_transform(X_train)\n",
    "\n",
    "# only transform X test data set\n",
    "tfidf_test = tfidf_vectorizer.transform(X_test)"
   ]
  },
  {
   "cell_type": "code",
   "execution_count": 13,
   "metadata": {},
   "outputs": [],
   "source": [
    "# Create a Multinomial Naive Bayes classifier: nb_classifier\n",
    "nb_classifier = MultinomialNB()\n",
    "nb_classifier.fit(tfidf_train,y_train)\n",
    "pred = nb_classifier.predict(tfidf_test)"
   ]
  },
  {
   "cell_type": "code",
   "execution_count": 14,
   "metadata": {},
   "outputs": [
    {
     "name": "stdout",
     "output_type": "stream",
     "text": [
      "Tfidf Vectorizer score : 0.98\n",
      "Tfidf Vectorizer fbeta : 0.96\n"
     ]
    }
   ],
   "source": [
    "# Model Evaluation\n",
    "score = metrics.accuracy_score(y_test,pred)\n",
    "print(\"Tfidf Vectorizer score :\" , score.round(2))\n",
    "print(\"Tfidf Vectorizer fbeta :\", metrics.fbeta_score(y_test,pred, beta = 0.5).round(2))"
   ]
  }
 ],
 "metadata": {
  "kernelspec": {
   "display_name": "Python 3",
   "language": "python",
   "name": "python3"
  },
  "language_info": {
   "codemirror_mode": {
    "name": "ipython",
    "version": 3
   },
   "file_extension": ".py",
   "mimetype": "text/x-python",
   "name": "python",
   "nbconvert_exporter": "python",
   "pygments_lexer": "ipython3",
   "version": "3.6.4"
  }
 },
 "nbformat": 4,
 "nbformat_minor": 2
}
