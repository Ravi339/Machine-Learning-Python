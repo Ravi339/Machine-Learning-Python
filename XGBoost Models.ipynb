{
 "cells": [
  {
   "cell_type": "code",
   "execution_count": 1,
   "metadata": {},
   "outputs": [],
   "source": [
    "# XGBoost is very fast and accurate\n",
    "# flow CART model ( Classification and regression Tree) \n",
    "# work good with continuous and categorical data\n",
    "from sklearn import datasets\n",
    "import pandas as pd\n",
    "import numpy as np\n",
    "import matplotlib.pyplot as plt\n",
    "import seaborn as sns\n",
    "import warnings;warnings.filterwarnings('ignore');"
   ]
  },
  {
   "cell_type": "markdown",
   "metadata": {},
   "source": [
    "# XGB Classification Model"
   ]
  },
  {
   "cell_type": "code",
   "execution_count": 2,
   "metadata": {},
   "outputs": [],
   "source": [
    "# Reading Classification dataset and spliting into train and test\n",
    "cancer = datasets.load_breast_cancer()\n",
    "X,y = cancer.data,cancer.target\n",
    "\n",
    "X_df = pd.DataFrame(X, columns= cancer.feature_names)\n",
    "y_df = pd.DataFrame()\n",
    "y_df['target'] = y.reshape(-1,1).flatten()\n",
    "\n",
    "#df= pd.concat([X_df,y_df],axis=1)\n",
    "#df.iloc[:,:-1],df.iloc[:,-1]\n",
    "\n",
    "from sklearn.model_selection import train_test_split\n",
    "X_train, X_test, y_train, y_test = train_test_split(X,y,test_size=0.3,random_state= 100,stratify=y)"
   ]
  },
  {
   "cell_type": "code",
   "execution_count": 3,
   "metadata": {},
   "outputs": [
    {
     "name": "stdout",
     "output_type": "stream",
     "text": [
      "Score :  0.9707602339181286\n",
      "accuracy: 0.970760\n"
     ]
    }
   ],
   "source": [
    "import xgboost as xgb\n",
    "\n",
    "xg_model = xgb.XGBClassifier(objective='binary:logistic',n_estimators=10, seed=123)\n",
    "xg_model.fit(X_train, y_train)\n",
    "preds = xg_model.predict(X_test)\n",
    "accuracy = float(np.sum(preds==y_test))/y_test.shape[0]\n",
    "score = xg_model.score(X_test,y_test)\n",
    "print('Score : ', score)\n",
    "print(\"accuracy: %f\" % (accuracy))"
   ]
  },
  {
   "cell_type": "code",
   "execution_count": 4,
   "metadata": {},
   "outputs": [
    {
     "name": "stdout",
     "output_type": "stream",
     "text": [
      "   train-error-mean  train-error-std  test-error-mean  test-error-std\n",
      "0          0.020217         0.004992         0.065042        0.012498\n",
      "1          0.014068         0.007571         0.065042        0.012498\n",
      "2          0.010549         0.004314         0.056252        0.010004\n",
      "3          0.007034         0.003294         0.058006        0.011422\n",
      "4          0.004398         0.003291         0.054507        0.016374\n",
      "Score :  0.9454933333333333\n"
     ]
    }
   ],
   "source": [
    "# if we want to use XGB learner API modile. Convert data into DMatrix\n",
    "# CV cross validation function provided by XGB learner API\n",
    "cancer_dmatrix = xgb.DMatrix(data=X, label=y)\n",
    "params = {\"objective\":\"reg:logistic\", \"max_depth\":7}\n",
    "# Perform cross-validation: cv_results\n",
    "cv_results = xgb.cv(dtrain=cancer_dmatrix, params=params,nfold=3, num_boost_round=5,metrics=\"error\", as_pandas=True, seed=123)\n",
    "\n",
    "# Print cv_results\n",
    "print(cv_results)\n",
    "print('Score : ' ,((1-cv_results[\"test-error-mean\"]).iloc[-1]))"
   ]
  },
  {
   "cell_type": "markdown",
   "metadata": {},
   "source": [
    "# XGB Regression Model"
   ]
  },
  {
   "cell_type": "code",
   "execution_count": 5,
   "metadata": {},
   "outputs": [],
   "source": [
    "# 2 types of base learner tree and linear ( Linear is not common )\n",
    "# 3 types of loss objective in sgb\n",
    "### 1. reg:squarederror OR  reg:linear ( for regression models)\n",
    "### 2. reg:logistic ( for classification not showing any probabilities of the class)\n",
    "### 3. binary:logistic ( for showing probability in binary classification)\n",
    "\n",
    "# Reading Regression data\n",
    "boston = datasets.load_boston()\n",
    "X,y = boston.data,boston.target\n",
    "X_df = pd.DataFrame(X, columns= boston.feature_names)\n",
    "X_df.head()\n",
    "\n",
    "X_train, X_test, y_train, y_test = train_test_split(X_df, y,test_size=0.2,random_state= 100)"
   ]
  },
  {
   "cell_type": "markdown",
   "metadata": {},
   "source": [
    "LINER BASE MODEL"
   ]
  },
  {
   "cell_type": "code",
   "execution_count": 6,
   "metadata": {},
   "outputs": [
    {
     "name": "stdout",
     "output_type": "stream",
     "text": [
      "Linear base learner RMSE: 7.673328\n"
     ]
    }
   ],
   "source": [
    "# Liner base leraner in not present in Sciki learn so we have to use XGB lerners API \n",
    "# this model in not frequently used\n",
    "\n",
    "#Convert the training and testing sets into DMatrixes: DM_train, DM_test\n",
    "DM_train = xgb.DMatrix(X_train,label=y_train)\n",
    "DM_test =  xgb.DMatrix(X_test,label=y_test)\n",
    "\n",
    "params = {\"booster\":\"gblinear\", \"objective\":\"reg:squarederror\"}\n",
    "\n",
    "xg_reg = xgb.train(params= params, dtrain=DM_train, num_boost_round=5)\n",
    "y_pred = xg_reg.predict(DM_test)\n",
    "\n",
    "# Compute and print the RMSE\n",
    "from sklearn.metrics import mean_squared_error\n",
    "rmse = np.sqrt(mean_squared_error(y_test,y_pred))\n",
    "print(\"Linear base learner RMSE: %f\" % (rmse))"
   ]
  },
  {
   "cell_type": "markdown",
   "metadata": {},
   "source": [
    "TREE BASE LEARNING MODEL"
   ]
  },
  {
   "cell_type": "code",
   "execution_count": 7,
   "metadata": {},
   "outputs": [
    {
     "name": "stdout",
     "output_type": "stream",
     "text": [
      "Tree base learner RMSE: 3.682955\n"
     ]
    }
   ],
   "source": [
    "# booster = gbtree is by default\n",
    "\n",
    "# Creating Regreesion Model\n",
    "xg_reg = xgb.XGBRegressor(objective=\"reg:squarederror\", n_estimators=10, seed=123)\n",
    "xg_reg.fit(X_train, y_train)\n",
    "y_pred = xg_reg.predict(X_test)\n",
    "\n",
    "# Compute the rmse: rmse\n",
    "rmse = np.sqrt(mean_squared_error(y_test, y_pred))\n",
    "print(\"Tree base learner RMSE: %f\" % (rmse))"
   ]
  },
  {
   "cell_type": "code",
   "execution_count": 8,
   "metadata": {},
   "outputs": [
    {
     "name": "stdout",
     "output_type": "stream",
     "text": [
      "   train-rmse-mean  train-rmse-std  test-rmse-mean  test-rmse-std\n",
      "0        17.119631        0.057943       17.149926       0.293179\n",
      "1        12.351691        0.035377       12.454320       0.344929\n",
      "2         8.996692        0.038509        9.222034       0.287941\n",
      "3         6.631964        0.036535        7.071121       0.312765\n",
      "4         4.952979        0.030204        5.631795       0.327027\n"
     ]
    }
   ],
   "source": [
    "# Cross Validation\n",
    "\n",
    "Boston_dmatrix = xgb.DMatrix(data=X, label=y)\n",
    "params = {\"objective\":\"reg:squarederror\", \"max_depth\":8}\n",
    "\n",
    "# Perform cross-validation: cv_results\n",
    "cv_results = xgb.cv(dtrain=Boston_dmatrix, params=params, nfold=4, num_boost_round=5, metrics='rmse', as_pandas=True, seed=123)\n",
    "\n",
    "print(cv_results)\n"
   ]
  },
  {
   "cell_type": "markdown",
   "metadata": {},
   "source": [
    "REGULARIZATION"
   ]
  },
  {
   "cell_type": "code",
   "execution_count": 9,
   "metadata": {},
   "outputs": [
    {
     "name": "stdout",
     "output_type": "stream",
     "text": [
      "        l2  rmse_train  ramse_test\n",
      "0    0.001    4.517497    5.525940\n",
      "1    0.100    4.623264    5.529687\n",
      "2    1.000    5.222681    6.007910\n",
      "3   10.000    6.955846    7.216757\n",
      "4  100.000   10.601924   10.692150\n"
     ]
    }
   ],
   "source": [
    "# Regularization parameters in XGBoost:\n",
    "# gamma - minimum loss reduction allowed for a split to occur\n",
    "# alpha - l1 regularization on leaf weights, larger values meanmore regularization\n",
    "# lambda - l2 regularization on leaf weights , not that severe\n",
    "\n",
    "# Create the DMatrix: housing_dmatrix\n",
    "reg_params = [0.001,0.1,1, 10, 100]\n",
    "\n",
    "# Create the initial parameter dictionary for varying l2 strength: params\n",
    "params = {\"objective\": \"reg:squarederror\", \"max_depth\": 4}\n",
    "rmses_train_l2=[]\n",
    "rmses_test_l2 =[]\n",
    "\n",
    "for reg in reg_params:\n",
    "    params[\"lambda\"] = reg\n",
    "    cv_results_rmse = xgb.cv(dtrain=Boston_dmatrix, params=params, nfold=2, num_boost_round=5, \n",
    "                             metrics=\"rmse\", as_pandas=True, seed=123)\n",
    "\n",
    "    rmses_test_l2.append(cv_results_rmse[\"test-rmse-mean\"].tail(1).values[0])\n",
    "    rmses_train_l2.append(cv_results_rmse[\"train-rmse-mean\"].tail(1).values[0])\n",
    "\n",
    "print(pd.DataFrame(list(zip(reg_params, rmses_train_l2,rmses_test_l2)), columns=[\"l2\", \"rmse_train\",\"ramse_test\"]))\n"
   ]
  },
  {
   "cell_type": "code",
   "execution_count": 10,
   "metadata": {},
   "outputs": [
    {
     "data": {
      "image/png": "[encoded data removed]",
      "text/plain": [
       "<matplotlib.figure.Figure at 0x16debd58630>"
      ]
     },
     "metadata": {},
     "output_type": "display_data"
    }
   ],
   "source": [
    "# Plot the feature importances\n",
    "xgb.plot_importance(xg_reg)\n",
    "plt.show()"
   ]
  },
  {
   "cell_type": "markdown",
   "metadata": {},
   "source": [
    "# Hyper tunning "
   ]
  },
  {
   "cell_type": "code",
   "execution_count": 11,
   "metadata": {},
   "outputs": [],
   "source": [
    "# Common tree tunable parameterslearning rate: \n",
    "# learning rate/etagamma: min loss reduction to create new tree split ( between 0 and 1)\n",
    "# lambda: L2 reg on leaf weights\n",
    "# alpha: L1 reg on leaf weights\n",
    "# max_depth: max depth per tree\n",
    "# subsample: % samples used per tree ( between 0 and 1)\n",
    "# colsample_bytree: % features used per tree ( between 0 and 1)\n",
    "\n",
    "# Linear tunable parameters\n",
    "# lambda: L2 reg on weights\n",
    "# alpha: L1 reg on weights\n",
    "# lambda_bias: L2 reg term on bias\n",
    "# You can also tune the number of estimators used for both basemodel types!"
   ]
  },
  {
   "cell_type": "code",
   "execution_count": 12,
   "metadata": {},
   "outputs": [
    {
     "name": "stdout",
     "output_type": "stream",
     "text": [
      "Fitting 4 folds for each of 4 candidates, totalling 16 fits\n",
      "Best parameters found:  {'colsample_bytree': 0.7, 'max_depth': 2, 'n_estimators': 50}\n",
      "Lowest RMSE found:  4.709864996540573\n"
     ]
    },
    {
     "name": "stderr",
     "output_type": "stream",
     "text": [
      "[Parallel(n_jobs=1)]: Done  16 out of  16 | elapsed:    0.6s finished\n"
     ]
    }
   ],
   "source": [
    "# Grid Search CV\n",
    "# All given conbinations are tested\n",
    "\n",
    "# Create the parameter grid: gbm_param_grid\n",
    "gbm_param_grid = {'colsample_bytree': [0.3,0.7],\n",
    "                  'n_estimators': [50],\n",
    "                  'max_depth': [2,5]\n",
    "}\n",
    "\n",
    "# Instantiate the regressor: gbm\n",
    "gbm = xgb.XGBRegressor()\n",
    "\n",
    "# Perform grid search: grid_mse\n",
    "from sklearn.model_selection import GridSearchCV\n",
    "grid_mse = GridSearchCV(estimator=gbm,param_grid=gbm_param_grid,scoring='neg_mean_squared_error',verbose=1,cv=4)\n",
    "\n",
    "grid_mse.fit(X,y)\n",
    "\n",
    "# Print the best parameters and lowest RMSE\n",
    "print(\"Best parameters found: \", grid_mse.best_params_)\n",
    "print(\"Lowest RMSE found: \", np.sqrt(np.abs(grid_mse.best_score_)))"
   ]
  },
  {
   "cell_type": "code",
   "execution_count": 13,
   "metadata": {},
   "outputs": [
    {
     "name": "stdout",
     "output_type": "stream",
     "text": [
      "Fitting 4 folds for each of 5 candidates, totalling 20 fits\n",
      "Best parameters found:  {'n_estimators': 50, 'max_depth': 3}\n",
      "Lowest RMSE found:  4.4043902657634915\n"
     ]
    },
    {
     "name": "stderr",
     "output_type": "stream",
     "text": [
      "[Parallel(n_jobs=1)]: Done  20 out of  20 | elapsed:    1.0s finished\n"
     ]
    }
   ],
   "source": [
    "# Random Search CV\n",
    "# you have to provide number of iteration to run and it run accordingly on provided options of paratmeters\n",
    "\n",
    "# Create the parameter grid: gbm_param_grid \n",
    "gbm_param_grid = {'n_estimators': [25,50],\n",
    "                  'max_depth':range(2,12)\n",
    "}\n",
    "\n",
    "# Instantiate the regressor: gbm\n",
    "gbm = xgb.XGBRegressor(n_estimators=10)\n",
    "\n",
    "# Perform random search: grid_mse\n",
    "from sklearn.model_selection import RandomizedSearchCV\n",
    "randomized_mse = RandomizedSearchCV(estimator=gbm,param_distributions=gbm_param_grid,\n",
    "                                    verbose=1,cv=4,n_iter = 5,scoring=\"neg_mean_squared_error\")\n",
    "\n",
    "\n",
    "randomized_mse.fit(X,y)\n",
    "print(\"Best parameters found: \", randomized_mse.best_params_)\n",
    "print(\"Lowest RMSE found: \", np.sqrt(np.abs(randomized_mse.best_score_)))"
   ]
  },
  {
   "cell_type": "markdown",
   "metadata": {},
   "source": [
    "# Pipeline with Random search"
   ]
  },
  {
   "cell_type": "code",
   "execution_count": 14,
   "metadata": {},
   "outputs": [],
   "source": [
    "from sklearn.pipeline import Pipeline\n",
    "from sklearn.preprocessing import StandardScaler\n",
    "from sklearn.preprocessing import Imputer\n",
    "\n",
    "steps= [(\"st_scaler\",StandardScaler()),\n",
    "        (\"xgb_model\",xgb.XGBRegressor())]\n",
    "\n",
    "xgb_pipeline = Pipeline(steps)"
   ]
  },
  {
   "cell_type": "code",
   "execution_count": 15,
   "metadata": {},
   "outputs": [],
   "source": [
    "# Parameters for random search\n",
    "\n",
    "gbm_param_grid = {'xgb_model__subsample': np.arange(.05, 1, .025),\n",
    "                  'xgb_model__max_depth': np.arange(2,20,1),\n",
    "                  'xgb_model__colsample_bytree': np.arange(.1,1.05,.05) }"
   ]
  },
  {
   "cell_type": "code",
   "execution_count": 16,
   "metadata": {
    "scrolled": true
   },
   "outputs": [
    {
     "name": "stdout",
     "output_type": "stream",
     "text": [
      "4.72\n",
      "Pipeline(memory=None,\n",
      "     steps=[('st_scaler', StandardScaler(copy=True, with_mean=True, with_std=True)), ('xgb_model', XGBRegressor(base_score=0.5, booster='gbtree', colsample_bylevel=1,\n",
      "       colsample_bynode=1, colsample_bytree=0.9500000000000003, gamma=0,\n",
      "       gpu_id=-1, importance_type='gain', interaction_constraints..., subsample=0.6000000000000002,\n",
      "       tree_method='exact', validate_parameters=1, verbosity=None))])\n"
     ]
    }
   ],
   "source": [
    "# Model\n",
    "randomized_neg_mse = RandomizedSearchCV(estimator=xgb_pipeline,param_distributions=gbm_param_grid,\n",
    "                                        n_iter=50,scoring='neg_mean_squared_error', cv=4)\n",
    "\n",
    "\n",
    "randomized_neg_mse.fit(X,y)\n",
    "\n",
    "# Compute metrics\n",
    "print(round(np.sqrt(np.abs(randomized_neg_mse.best_score_)),2))\n",
    "print(randomized_neg_mse.best_estimator_)"
   ]
  }
 ],
 "metadata": {
  "kernelspec": {
   "display_name": "Python 3",
   "language": "python",
   "name": "python3"
  },
  "language_info": {
   "codemirror_mode": {
    "name": "ipython",
    "version": 3
   },
   "file_extension": ".py",
   "mimetype": "text/x-python",
   "name": "python",
   "nbconvert_exporter": "python",
   "pygments_lexer": "ipython3",
   "version": "3.6.4"
  }
 },
 "nbformat": 4,
 "nbformat_minor": 2
}
